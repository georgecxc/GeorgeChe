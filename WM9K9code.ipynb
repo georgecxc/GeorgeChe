{
 "cells": [
  {
   "cell_type": "code",
   "execution_count": 1,
   "id": "b4a89f75",
   "metadata": {},
   "outputs": [],
   "source": [
    "import pandas"
   ]
  },
  {
   "cell_type": "code",
   "execution_count": 2,
   "id": "a56cd6d0",
   "metadata": {},
   "outputs": [],
   "source": [
    "import matplotlib.pyplot as plt"
   ]
  },
  {
   "cell_type": "code",
   "execution_count": 3,
   "id": "7dcf2419",
   "metadata": {},
   "outputs": [],
   "source": [
    "#1,a,"
   ]
  },
  {
   "cell_type": "code",
   "execution_count": 4,
   "id": "0adf8a9f",
   "metadata": {},
   "outputs": [],
   "source": [
    "b=[[8.3,6.4,3.4,3.8,2.6,11.6,1.2,2.5,1.6],[210,180,130,170,130,210,120,150,140]]"
   ]
  },
  {
   "cell_type": "code",
   "execution_count": 5,
   "id": "aaf0785b",
   "metadata": {},
   "outputs": [
    {
     "data": {
      "text/plain": [
       "Text(0.5, 0, 'REI')"
      ]
     },
     "execution_count": 5,
     "metadata": {},
     "output_type": "execute_result"
    },
    {
     "data": {
      "image/png": "[encoded data removed]",
      "text/plain": [
       "<Figure size 640x480 with 1 Axes>"
      ]
     },
     "metadata": {},
     "output_type": "display_data"
    }
   ],
   "source": [
    "plt.plot(b[0],b[1],'o')\n",
    "plt.ylabel(\"Mortality Rate\")\n",
    "plt.xlabel(\"REI\")"
   ]
  },
  {
   "cell_type": "code",
   "execution_count": 6,
   "id": "93acb271",
   "metadata": {},
   "outputs": [],
   "source": [
    "a=pandas.DataFrame(data=b)"
   ]
  },
  {
   "cell_type": "code",
   "execution_count": 7,
   "id": "e0d470b1",
   "metadata": {},
   "outputs": [],
   "source": [
    "import scipy"
   ]
  },
  {
   "cell_type": "code",
   "execution_count": 8,
   "id": "c2392edc",
   "metadata": {},
   "outputs": [
    {
     "data": {
      "text/plain": [
       "SpearmanrResult(correlation=0.8571731229523383, pvalue=0.00314393098033448)"
      ]
     },
     "execution_count": 8,
     "metadata": {},
     "output_type": "execute_result"
    }
   ],
   "source": [
    "scipy.stats.spearmanr(b,axis=1)"
   ]
  },
  {
   "cell_type": "code",
   "execution_count": 9,
   "id": "8cf1a4c8",
   "metadata": {},
   "outputs": [
    {
     "data": {
      "text/plain": [
       "PearsonRResult(statistic=0.9174852467389412, pvalue=0.0004898156953144436)"
      ]
     },
     "execution_count": 9,
     "metadata": {},
     "output_type": "execute_result"
    }
   ],
   "source": [
    "scipy.stats.pearsonr(b[0],b[1])"
   ]
  },
  {
   "cell_type": "code",
   "execution_count": 10,
   "id": "fc821a50",
   "metadata": {},
   "outputs": [],
   "source": [
    "a=a.T"
   ]
  },
  {
   "cell_type": "code",
   "execution_count": 11,
   "id": "685772aa",
   "metadata": {},
   "outputs": [
    {
     "data": {
      "text/html": [
       "<div>\n",
       "<style scoped>\n",
       "    .dataframe tbody tr th:only-of-type {\n",
       "        vertical-align: middle;\n",
       "    }\n",
       "\n",
       "    .dataframe tbody tr th {\n",
       "        vertical-align: top;\n",
       "    }\n",
       "\n",
       "    .dataframe thead th {\n",
       "        text-align: right;\n",
       "    }\n",
       "</style>\n",
       "<table border=\"1\" class=\"dataframe\">\n",
       "  <thead>\n",
       "    <tr style=\"text-align: right;\">\n",
       "      <th></th>\n",
       "      <th>0</th>\n",
       "      <th>1</th>\n",
       "    </tr>\n",
       "  </thead>\n",
       "  <tbody>\n",
       "    <tr>\n",
       "      <th>count</th>\n",
       "      <td>9.000000</td>\n",
       "      <td>9.000000</td>\n",
       "    </tr>\n",
       "    <tr>\n",
       "      <th>mean</th>\n",
       "      <td>4.600000</td>\n",
       "      <td>160.000000</td>\n",
       "    </tr>\n",
       "    <tr>\n",
       "      <th>std</th>\n",
       "      <td>3.481738</td>\n",
       "      <td>34.278273</td>\n",
       "    </tr>\n",
       "    <tr>\n",
       "      <th>min</th>\n",
       "      <td>1.200000</td>\n",
       "      <td>120.000000</td>\n",
       "    </tr>\n",
       "    <tr>\n",
       "      <th>25%</th>\n",
       "      <td>2.500000</td>\n",
       "      <td>130.000000</td>\n",
       "    </tr>\n",
       "    <tr>\n",
       "      <th>50%</th>\n",
       "      <td>3.400000</td>\n",
       "      <td>150.000000</td>\n",
       "    </tr>\n",
       "    <tr>\n",
       "      <th>75%</th>\n",
       "      <td>6.400000</td>\n",
       "      <td>180.000000</td>\n",
       "    </tr>\n",
       "    <tr>\n",
       "      <th>max</th>\n",
       "      <td>11.600000</td>\n",
       "      <td>210.000000</td>\n",
       "    </tr>\n",
       "  </tbody>\n",
       "</table>\n",
       "</div>"
      ],
      "text/plain": [
       "               0           1\n",
       "count   9.000000    9.000000\n",
       "mean    4.600000  160.000000\n",
       "std     3.481738   34.278273\n",
       "min     1.200000  120.000000\n",
       "25%     2.500000  130.000000\n",
       "50%     3.400000  150.000000\n",
       "75%     6.400000  180.000000\n",
       "max    11.600000  210.000000"
      ]
     },
     "execution_count": 11,
     "metadata": {},
     "output_type": "execute_result"
    }
   ],
   "source": [
    "a.describe()"
   ]
  },
  {
   "cell_type": "code",
   "execution_count": 12,
   "id": "5a0a3f77",
   "metadata": {},
   "outputs": [],
   "source": [
    "import statsmodels.tools.tools"
   ]
  },
  {
   "cell_type": "code",
   "execution_count": 13,
   "id": "c30b2147",
   "metadata": {},
   "outputs": [],
   "source": [
    "x=statsmodels.tools.tools.add_constant(a[0])"
   ]
  },
  {
   "cell_type": "code",
   "execution_count": 14,
   "id": "67f7fd56",
   "metadata": {},
   "outputs": [],
   "source": [
    "y=a[1]"
   ]
  },
  {
   "cell_type": "code",
   "execution_count": 15,
   "id": "e0bc41f5",
   "metadata": {},
   "outputs": [],
   "source": [
    "import statsmodels.regression.linear_model"
   ]
  },
  {
   "cell_type": "code",
   "execution_count": 16,
   "id": "2c5c9aa0",
   "metadata": {},
   "outputs": [],
   "source": [
    "model=statsmodels.regression.linear_model.OLS(y,x).fit()"
   ]
  },
  {
   "cell_type": "code",
   "execution_count": 17,
   "id": "be3a5611",
   "metadata": {},
   "outputs": [],
   "source": [
    "y_pred=model.predict(x)"
   ]
  },
  {
   "cell_type": "code",
   "execution_count": 18,
   "id": "27873c11",
   "metadata": {},
   "outputs": [],
   "source": [
    "intercept,slope=model.params"
   ]
  },
  {
   "cell_type": "code",
   "execution_count": 19,
   "id": "73a3136c",
   "metadata": {},
   "outputs": [],
   "source": [
    "import sklearn.metrics"
   ]
  },
  {
   "cell_type": "code",
   "execution_count": 20,
   "id": "bd219dae",
   "metadata": {},
   "outputs": [],
   "source": [
    "mse=sklearn.metrics.mean_squared_error(y,y_pred)"
   ]
  },
  {
   "cell_type": "code",
   "execution_count": 21,
   "id": "c3601be1",
   "metadata": {},
   "outputs": [],
   "source": [
    "r2=sklearn.metrics.r2_score(y,y_pred)"
   ]
  },
  {
   "cell_type": "code",
   "execution_count": 22,
   "id": "a66bbc51",
   "metadata": {},
   "outputs": [
    {
     "data": {
      "text/plain": [
       "0.8417791779836159"
      ]
     },
     "execution_count": 22,
     "metadata": {},
     "output_type": "execute_result"
    }
   ],
   "source": [
    "r2"
   ]
  },
  {
   "cell_type": "code",
   "execution_count": 23,
   "id": "8ea31788",
   "metadata": {},
   "outputs": [
    {
     "data": {
      "text/plain": [
       "118.4491647762425"
      ]
     },
     "execution_count": 23,
     "metadata": {},
     "output_type": "execute_result"
    }
   ],
   "source": [
    "intercept"
   ]
  },
  {
   "cell_type": "code",
   "execution_count": 24,
   "id": "145aebf7",
   "metadata": {},
   "outputs": [
    {
     "data": {
      "text/plain": [
       "9.032790266034226"
      ]
     },
     "execution_count": 24,
     "metadata": {},
     "output_type": "execute_result"
    }
   ],
   "source": [
    "slope#beta"
   ]
  },
  {
   "cell_type": "code",
   "execution_count": 25,
   "id": "06048867",
   "metadata": {},
   "outputs": [
    {
     "name": "stderr",
     "output_type": "stream",
     "text": [
      "C:\\Users\\chexi\\anaconda3\\lib\\site-packages\\scipy\\stats\\_stats_py.py:1769: UserWarning: kurtosistest only valid for n>=20 ... continuing anyway, n=9\n",
      "  warnings.warn(\"kurtosistest only valid for n>=20 ... continuing \"\n"
     ]
    },
    {
     "data": {
      "text/html": [
       "<table class=\"simpletable\">\n",
       "<caption>OLS Regression Results</caption>\n",
       "<tr>\n",
       "  <th>Dep. Variable:</th>            <td>1</td>        <th>  R-squared:         </th> <td>   0.842</td>\n",
       "</tr>\n",
       "<tr>\n",
       "  <th>Model:</th>                   <td>OLS</td>       <th>  Adj. R-squared:    </th> <td>   0.819</td>\n",
       "</tr>\n",
       "<tr>\n",
       "  <th>Method:</th>             <td>Least Squares</td>  <th>  F-statistic:       </th> <td>   37.24</td>\n",
       "</tr>\n",
       "<tr>\n",
       "  <th>Date:</th>             <td>Sun, 08 Dec 2024</td> <th>  Prob (F-statistic):</th> <td>0.000490</td>\n",
       "</tr>\n",
       "<tr>\n",
       "  <th>Time:</th>                 <td>23:44:01</td>     <th>  Log-Likelihood:    </th> <td> -35.754</td>\n",
       "</tr>\n",
       "<tr>\n",
       "  <th>No. Observations:</th>      <td>     9</td>      <th>  AIC:               </th> <td>   75.51</td>\n",
       "</tr>\n",
       "<tr>\n",
       "  <th>Df Residuals:</th>          <td>     7</td>      <th>  BIC:               </th> <td>   75.90</td>\n",
       "</tr>\n",
       "<tr>\n",
       "  <th>Df Model:</th>              <td>     1</td>      <th>                     </th>     <td> </td>   \n",
       "</tr>\n",
       "<tr>\n",
       "  <th>Covariance Type:</th>      <td>nonrobust</td>    <th>                     </th>     <td> </td>   \n",
       "</tr>\n",
       "</table>\n",
       "<table class=\"simpletable\">\n",
       "<tr>\n",
       "    <td></td>       <th>coef</th>     <th>std err</th>      <th>t</th>      <th>P>|t|</th>  <th>[0.025</th>    <th>0.975]</th>  \n",
       "</tr>\n",
       "<tr>\n",
       "  <th>const</th> <td>  118.4492</td> <td>    8.365</td> <td>   14.161</td> <td> 0.000</td> <td>   98.670</td> <td>  138.228</td>\n",
       "</tr>\n",
       "<tr>\n",
       "  <th>0</th>     <td>    9.0328</td> <td>    1.480</td> <td>    6.103</td> <td> 0.000</td> <td>    5.533</td> <td>   12.533</td>\n",
       "</tr>\n",
       "</table>\n",
       "<table class=\"simpletable\">\n",
       "<tr>\n",
       "  <th>Omnibus:</th>       <td> 2.479</td> <th>  Durbin-Watson:     </th> <td>   2.163</td>\n",
       "</tr>\n",
       "<tr>\n",
       "  <th>Prob(Omnibus):</th> <td> 0.290</td> <th>  Jarque-Bera (JB):  </th> <td>   0.861</td>\n",
       "</tr>\n",
       "<tr>\n",
       "  <th>Skew:</th>          <td>-0.055</td> <th>  Prob(JB):          </th> <td>   0.650</td>\n",
       "</tr>\n",
       "<tr>\n",
       "  <th>Kurtosis:</th>      <td> 1.489</td> <th>  Cond. No.          </th> <td>    9.93</td>\n",
       "</tr>\n",
       "</table><br/><br/>Notes:<br/>[1] Standard Errors assume that the covariance matrix of the errors is correctly specified."
      ],
      "text/plain": [
       "<class 'statsmodels.iolib.summary.Summary'>\n",
       "\"\"\"\n",
       "                            OLS Regression Results                            \n",
       "==============================================================================\n",
       "Dep. Variable:                      1   R-squared:                       0.842\n",
       "Model:                            OLS   Adj. R-squared:                  0.819\n",
       "Method:                 Least Squares   F-statistic:                     37.24\n",
       "Date:                Sun, 08 Dec 2024   Prob (F-statistic):           0.000490\n",
       "Time:                        23:44:01   Log-Likelihood:                -35.754\n",
       "No. Observations:                   9   AIC:                             75.51\n",
       "Df Residuals:                       7   BIC:                             75.90\n",
       "Df Model:                           1                                         \n",
       "Covariance Type:            nonrobust                                         \n",
       "==============================================================================\n",
       "                 coef    std err          t      P>|t|      [0.025      0.975]\n",
       "------------------------------------------------------------------------------\n",
       "const        118.4492      8.365     14.161      0.000      98.670     138.228\n",
       "0              9.0328      1.480      6.103      0.000       5.533      12.533\n",
       "==============================================================================\n",
       "Omnibus:                        2.479   Durbin-Watson:                   2.163\n",
       "Prob(Omnibus):                  0.290   Jarque-Bera (JB):                0.861\n",
       "Skew:                          -0.055   Prob(JB):                        0.650\n",
       "Kurtosis:                       1.489   Cond. No.                         9.93\n",
       "==============================================================================\n",
       "\n",
       "Notes:\n",
       "[1] Standard Errors assume that the covariance matrix of the errors is correctly specified.\n",
       "\"\"\""
      ]
     },
     "execution_count": 25,
     "metadata": {},
     "output_type": "execute_result"
    }
   ],
   "source": [
    "model.summary()"
   ]
  },
  {
   "cell_type": "code",
   "execution_count": 26,
   "id": "a4548b61",
   "metadata": {},
   "outputs": [],
   "source": [
    "import numpy"
   ]
  },
  {
   "cell_type": "code",
   "execution_count": 27,
   "id": "7bee2179",
   "metadata": {},
   "outputs": [
    {
     "data": {
      "text/plain": [
       "Text(0.5, 0, 'REI')"
      ]
     },
     "execution_count": 27,
     "metadata": {},
     "output_type": "execute_result"
    },
    {
     "data": {
      "image/png": "[encoded data removed]",
      "text/plain": [
       "<Figure size 640x480 with 1 Axes>"
      ]
     },
     "metadata": {},
     "output_type": "display_data"
    }
   ],
   "source": [
    "plt.plot(b[0],b[1],'o')\n",
    "e=numpy.linspace(0,8,9)\n",
    "plt.plot(x,x*slope+intercept)\n",
    "plt.ylabel(\"Mortality Rate\")\n",
    "plt.xlabel(\"REI\")"
   ]
  },
  {
   "cell_type": "code",
   "execution_count": 28,
   "id": "a05d0fcd",
   "metadata": {},
   "outputs": [],
   "source": [
    "StanR=scipy.stats.zscore(model.predict(x)-a[1])"
   ]
  },
  {
   "cell_type": "code",
   "execution_count": 29,
   "id": "f9a42873",
   "metadata": {},
   "outputs": [
    {
     "data": {
      "text/plain": [
       "Text(0.5, 0, 'order')"
      ]
     },
     "execution_count": 29,
     "metadata": {},
     "output_type": "execute_result"
    },
    {
     "data": {
      "image/png": "[encoded data removed]",
      "text/plain": [
       "<Figure size 640x480 with 1 Axes>"
      ]
     },
     "metadata": {},
     "output_type": "display_data"
    }
   ],
   "source": [
    "plt.plot(StanR,'o')\n",
    "plt.ylabel(\"standardized residual\")\n",
    "plt.xlabel(\"order\")"
   ]
  },
  {
   "cell_type": "code",
   "execution_count": 30,
   "id": "ffb4ffe6",
   "metadata": {},
   "outputs": [],
   "source": [
    "c=x.sort_values(0)"
   ]
  },
  {
   "cell_type": "code",
   "execution_count": 31,
   "id": "dcc969be",
   "metadata": {},
   "outputs": [],
   "source": [
    "d=a.sort_values(0)"
   ]
  },
  {
   "cell_type": "code",
   "execution_count": 32,
   "id": "5bb7a622",
   "metadata": {},
   "outputs": [],
   "source": [
    "StanR1=scipy.stats.zscore(model.predict(c)-d[1])"
   ]
  },
  {
   "cell_type": "code",
   "execution_count": 33,
   "id": "f1f1e466",
   "metadata": {},
   "outputs": [
    {
     "data": {
      "text/plain": [
       "Text(0.5, 0, 'order by size')"
      ]
     },
     "execution_count": 33,
     "metadata": {},
     "output_type": "execute_result"
    },
    {
     "data": {
      "image/png": "[encoded data removed]",
      "text/plain": [
       "<Figure size 640x480 with 1 Axes>"
      ]
     },
     "metadata": {},
     "output_type": "display_data"
    }
   ],
   "source": [
    "plt.plot(StanR1.reset_index()[0],'o')\n",
    "plt.ylabel(\"standardized residual\")\n",
    "plt.xlabel(\"order by size\")"
   ]
  },
  {
   "cell_type": "code",
   "execution_count": 34,
   "id": "4fbef6f4",
   "metadata": {},
   "outputs": [
    {
     "data": {
      "text/plain": [
       "4"
      ]
     },
     "execution_count": 34,
     "metadata": {},
     "output_type": "execute_result"
    }
   ],
   "source": [
    "int(1+3.322*numpy.log10(len(a)))"
   ]
  },
  {
   "cell_type": "code",
   "execution_count": 35,
   "id": "49fc161a",
   "metadata": {},
   "outputs": [],
   "source": [
    "classRange=numpy.ptp(StanR)/4"
   ]
  },
  {
   "cell_type": "code",
   "execution_count": 36,
   "id": "d5349832",
   "metadata": {},
   "outputs": [],
   "source": [
    "hist,binE=numpy.histogram(StanR,bins=4)"
   ]
  },
  {
   "cell_type": "code",
   "execution_count": 37,
   "id": "33940236",
   "metadata": {},
   "outputs": [
    {
     "data": {
      "text/plain": [
       "array([-1.34003397, -0.63239721,  0.07523955,  0.7828763 ,  1.49051306])"
      ]
     },
     "execution_count": 37,
     "metadata": {},
     "output_type": "execute_result"
    }
   ],
   "source": [
    "binE"
   ]
  },
  {
   "cell_type": "code",
   "execution_count": 38,
   "id": "fd123638",
   "metadata": {},
   "outputs": [
    {
     "data": {
      "text/plain": [
       "array([3, 2, 1, 3], dtype=int64)"
      ]
     },
     "execution_count": 38,
     "metadata": {},
     "output_type": "execute_result"
    }
   ],
   "source": [
    "hist"
   ]
  },
  {
   "cell_type": "code",
   "execution_count": 39,
   "id": "32db13e1",
   "metadata": {},
   "outputs": [],
   "source": [
    "cdfV=scipy.stats.norm.cdf(binE+classRange,StanR.mean(),StanR.std())"
   ]
  },
  {
   "cell_type": "code",
   "execution_count": 40,
   "id": "2b27dabc",
   "metadata": {},
   "outputs": [
    {
     "data": {
      "text/plain": [
       "array([0.27551086, 0.52827586, 0.76977403, 0.92002938, 0.98088758])"
      ]
     },
     "execution_count": 40,
     "metadata": {},
     "output_type": "execute_result"
    }
   ],
   "source": [
    "cdfV"
   ]
  },
  {
   "cell_type": "code",
   "execution_count": 41,
   "id": "43242da7",
   "metadata": {},
   "outputs": [],
   "source": [
    "binF=[]\n",
    "for i in range(0,len(cdfV)-1):\n",
    "    if i==0:\n",
    "        f=cdfV[0]\n",
    "    else:\n",
    "        f=cdfV[i]-cdfV[i-1]\n",
    "    binF.append(f)"
   ]
  },
  {
   "cell_type": "code",
   "execution_count": 42,
   "id": "8e7cf9bc",
   "metadata": {},
   "outputs": [],
   "source": [
    "binF=numpy.array(binF)"
   ]
  },
  {
   "cell_type": "code",
   "execution_count": 43,
   "id": "61fb9b63",
   "metadata": {},
   "outputs": [
    {
     "data": {
      "text/plain": [
       "array([0.27551086, 0.25276501, 0.24149816, 0.15025535])"
      ]
     },
     "execution_count": 43,
     "metadata": {},
     "output_type": "execute_result"
    }
   ],
   "source": [
    "binF"
   ]
  },
  {
   "cell_type": "code",
   "execution_count": 44,
   "id": "ad0aa14c",
   "metadata": {},
   "outputs": [],
   "source": [
    "exp=len(a)*binF"
   ]
  },
  {
   "cell_type": "code",
   "execution_count": 45,
   "id": "a0fe59a5",
   "metadata": {},
   "outputs": [
    {
     "data": {
      "text/plain": [
       "array([2.47959772, 2.27488505, 2.17348347, 1.35229816])"
      ]
     },
     "execution_count": 45,
     "metadata": {},
     "output_type": "execute_result"
    }
   ],
   "source": [
    "exp"
   ]
  },
  {
   "cell_type": "code",
   "execution_count": 46,
   "id": "ff062b58",
   "metadata": {},
   "outputs": [],
   "source": [
    "chi=((hist-exp)**2/exp).sum()"
   ]
  },
  {
   "cell_type": "code",
   "execution_count": 47,
   "id": "db6a06d2",
   "metadata": {},
   "outputs": [
    {
     "data": {
      "text/plain": [
       "0.095231270684763"
      ]
     },
     "execution_count": 47,
     "metadata": {},
     "output_type": "execute_result"
    }
   ],
   "source": [
    "1-scipy.stats.chi2.cdf(chi,1)"
   ]
  },
  {
   "cell_type": "code",
   "execution_count": 48,
   "id": "a34687bb",
   "metadata": {},
   "outputs": [],
   "source": [
    "#1,b,"
   ]
  },
  {
   "cell_type": "code",
   "execution_count": 49,
   "id": "40128e61",
   "metadata": {},
   "outputs": [
    {
     "data": {
      "text/plain": [
       "163.61311610641363"
      ]
     },
     "execution_count": 49,
     "metadata": {},
     "output_type": "execute_result"
    }
   ],
   "source": [
    "intercept+5*slope"
   ]
  },
  {
   "cell_type": "code",
   "execution_count": 50,
   "id": "49cc117e",
   "metadata": {},
   "outputs": [
    {
     "data": {
      "text/plain": [
       "126.33500000000001"
      ]
     },
     "execution_count": 50,
     "metadata": {},
     "output_type": "execute_result"
    }
   ],
   "source": [
    "98.67+5*5.533"
   ]
  },
  {
   "cell_type": "code",
   "execution_count": 51,
   "id": "4c33e779",
   "metadata": {},
   "outputs": [
    {
     "data": {
      "text/plain": [
       "200.953"
      ]
     },
     "execution_count": 51,
     "metadata": {},
     "output_type": "execute_result"
    }
   ],
   "source": [
    "138.288+5*12.533"
   ]
  },
  {
   "cell_type": "code",
   "execution_count": 52,
   "id": "dc28ade7",
   "metadata": {},
   "outputs": [],
   "source": [
    "#1,c,"
   ]
  },
  {
   "cell_type": "code",
   "execution_count": 53,
   "id": "b9b325ff",
   "metadata": {},
   "outputs": [
    {
     "data": {
      "text/plain": [
       "Text(0.5, 0, 'REI')"
      ]
     },
     "execution_count": 53,
     "metadata": {},
     "output_type": "execute_result"
    },
    {
     "data": {
      "image/png": "[encoded data removed]",
      "text/plain": [
       "<Figure size 640x480 with 1 Axes>"
      ]
     },
     "metadata": {},
     "output_type": "display_data"
    }
   ],
   "source": [
    "plt.plot(b[0],b[1],'o')\n",
    "e=numpy.linspace(0,8,9)\n",
    "plt.plot(x,x*slope+intercept)\n",
    "plt.plot(x,x*5.533+98.67)\n",
    "plt.plot(x,x*12.533+138.288)\n",
    "plt.ylabel(\"Mortality Rate\")\n",
    "plt.xlabel(\"REI\")"
   ]
  },
  {
   "cell_type": "code",
   "execution_count": 54,
   "id": "a4e8381a",
   "metadata": {},
   "outputs": [],
   "source": [
    "#2,i,"
   ]
  },
  {
   "cell_type": "code",
   "execution_count": 55,
   "id": "22976906",
   "metadata": {},
   "outputs": [
    {
     "data": {
      "text/plain": [
       "0.25104469436444854"
      ]
     },
     "execution_count": 55,
     "metadata": {},
     "output_type": "execute_result"
    }
   ],
   "source": [
    "scipy.stats.poisson.pmf(2,2.6)"
   ]
  },
  {
   "cell_type": "code",
   "execution_count": 56,
   "id": "8f82e092",
   "metadata": {},
   "outputs": [
    {
     "data": {
      "text/plain": [
       "0.9002420855164824"
      ]
     },
     "execution_count": 56,
     "metadata": {},
     "output_type": "execute_result"
    }
   ],
   "source": [
    "1-scipy.stats.poisson.cdf(8,2.6*5)"
   ]
  },
  {
   "cell_type": "code",
   "execution_count": 57,
   "id": "d4b174e7",
   "metadata": {},
   "outputs": [
    {
     "data": {
      "text/plain": [
       "0.09682084979248273"
      ]
     },
     "execution_count": 57,
     "metadata": {},
     "output_type": "execute_result"
    }
   ],
   "source": [
    "scipy.stats.poisson.cdf(19,26)"
   ]
  },
  {
   "cell_type": "code",
   "execution_count": 58,
   "id": "98b50d57",
   "metadata": {},
   "outputs": [],
   "source": [
    "#2,ii,a,"
   ]
  },
  {
   "cell_type": "code",
   "execution_count": 59,
   "id": "20bc8a0a",
   "metadata": {},
   "outputs": [],
   "source": [
    "f=[33.75,33.05,34,33.81,33.46,34.02,33.58,33.27,33.49,33.2,34.62,33,33.54,34.12,33.84]"
   ]
  },
  {
   "cell_type": "code",
   "execution_count": 60,
   "id": "450ad13c",
   "metadata": {},
   "outputs": [],
   "source": [
    "f=numpy.array(f)"
   ]
  },
  {
   "cell_type": "code",
   "execution_count": 61,
   "id": "139b39d1",
   "metadata": {},
   "outputs": [
    {
     "data": {
      "text/plain": [
       "33.65"
      ]
     },
     "execution_count": 61,
     "metadata": {},
     "output_type": "execute_result"
    }
   ],
   "source": [
    "f.mean()"
   ]
  },
  {
   "cell_type": "code",
   "execution_count": 62,
   "id": "8d927b38",
   "metadata": {},
   "outputs": [],
   "source": [
    "#2,ii,b,"
   ]
  },
  {
   "cell_type": "code",
   "execution_count": 63,
   "id": "9eecd024",
   "metadata": {},
   "outputs": [
    {
     "data": {
      "text/plain": [
       "33.58"
      ]
     },
     "execution_count": 63,
     "metadata": {},
     "output_type": "execute_result"
    }
   ],
   "source": [
    "numpy.median(f)"
   ]
  },
  {
   "cell_type": "code",
   "execution_count": 64,
   "id": "6c2b5a29",
   "metadata": {},
   "outputs": [
    {
     "data": {
      "text/plain": [
       "4"
      ]
     },
     "execution_count": 64,
     "metadata": {},
     "output_type": "execute_result"
    }
   ],
   "source": [
    "int(1+3.322*numpy.log10(len(f)))"
   ]
  },
  {
   "cell_type": "code",
   "execution_count": 65,
   "id": "105aa044",
   "metadata": {},
   "outputs": [
    {
     "data": {
      "text/plain": [
       "Text(0, 0.5, 'frequency')"
      ]
     },
     "execution_count": 65,
     "metadata": {},
     "output_type": "execute_result"
    },
    {
     "data": {
      "image/png": "[encoded data removed]",
      "text/plain": [
       "<Figure size 640x480 with 1 Axes>"
      ]
     },
     "metadata": {},
     "output_type": "display_data"
    }
   ],
   "source": [
    "plt.hist(f,4)\n",
    "plt.xlabel('test result')\n",
    "plt.ylabel('frequency')"
   ]
  },
  {
   "cell_type": "code",
   "execution_count": 66,
   "id": "815deb4e",
   "metadata": {},
   "outputs": [
    {
     "data": {
      "text/plain": [
       "0.5352930563890107"
      ]
     },
     "execution_count": 66,
     "metadata": {},
     "output_type": "execute_result"
    }
   ],
   "source": [
    "classRange=numpy.ptp(f)/4\n",
    "hist,binE=numpy.histogram(f,bins=4)\n",
    "cdfV=scipy.stats.norm.cdf(binE+classRange,f.mean(),f.std())\n",
    "binF=[]\n",
    "for i in range(0,len(cdfV)-1):\n",
    "    if i==0:\n",
    "        g=cdfV[0]\n",
    "    else:\n",
    "        g=cdfV[i]-cdfV[i-1]\n",
    "    binF.append(g)\n",
    "binF=numpy.array(binF)\n",
    "exp=len(f)*binF\n",
    "chi=((hist-exp)**2/exp).sum()\n",
    "1-scipy.stats.chi2.cdf(chi,1)"
   ]
  },
  {
   "cell_type": "code",
   "execution_count": 67,
   "id": "dc4e9e49",
   "metadata": {},
   "outputs": [
    {
     "data": {
      "text/plain": [
       "33.86474699946164"
      ]
     },
     "execution_count": 67,
     "metadata": {},
     "output_type": "execute_result"
    }
   ],
   "source": [
    "f.mean()+1.96*f.std()/len(f)**0.5"
   ]
  },
  {
   "cell_type": "code",
   "execution_count": 68,
   "id": "5096374b",
   "metadata": {},
   "outputs": [
    {
     "data": {
      "text/plain": [
       "33.43525300053836"
      ]
     },
     "execution_count": 68,
     "metadata": {},
     "output_type": "execute_result"
    }
   ],
   "source": [
    "f.mean()-1.96*f.std()/len(f)**0.5"
   ]
  },
  {
   "cell_type": "code",
   "execution_count": 69,
   "id": "6edb28bf",
   "metadata": {},
   "outputs": [],
   "source": [
    "#2,ii,c,"
   ]
  },
  {
   "cell_type": "code",
   "execution_count": 70,
   "id": "43293447",
   "metadata": {},
   "outputs": [
    {
     "data": {
      "text/plain": [
       "0.0627882362247132"
      ]
     },
     "execution_count": 70,
     "metadata": {},
     "output_type": "execute_result"
    }
   ],
   "source": [
    "scipy.stats.norm(f.mean(),f.std()).cdf(33)"
   ]
  },
  {
   "cell_type": "code",
   "execution_count": 71,
   "id": "9074e1b1",
   "metadata": {},
   "outputs": [
    {
     "data": {
      "text/plain": [
       "0.0007328472582639467"
      ]
     },
     "execution_count": 71,
     "metadata": {},
     "output_type": "execute_result"
    }
   ],
   "source": [
    "1-scipy.stats.norm(f.mean(),f.std()).cdf(35)"
   ]
  },
  {
   "cell_type": "code",
   "execution_count": 72,
   "id": "eccce6b9",
   "metadata": {},
   "outputs": [
    {
     "data": {
      "text/plain": [
       "0.06352108348297715"
      ]
     },
     "execution_count": 72,
     "metadata": {},
     "output_type": "execute_result"
    }
   ],
   "source": [
    "0.0627882362247132+0.0007328472582639467"
   ]
  },
  {
   "cell_type": "code",
   "execution_count": 73,
   "id": "0833007e",
   "metadata": {},
   "outputs": [],
   "source": [
    "#3,i,"
   ]
  },
  {
   "cell_type": "code",
   "execution_count": 74,
   "id": "ff543f70",
   "metadata": {},
   "outputs": [],
   "source": [
    "d1=[55,72,26,65,104,62,89,52,76,46,100,72,35]\n",
    "d1=numpy.array(d1)"
   ]
  },
  {
   "cell_type": "code",
   "execution_count": 75,
   "id": "8b304330",
   "metadata": {},
   "outputs": [
    {
     "data": {
      "text/plain": [
       "65.6923076923077"
      ]
     },
     "execution_count": 75,
     "metadata": {},
     "output_type": "execute_result"
    }
   ],
   "source": [
    "d1.mean()"
   ]
  },
  {
   "cell_type": "code",
   "execution_count": 76,
   "id": "13710852",
   "metadata": {},
   "outputs": [
    {
     "data": {
      "text/plain": [
       "22.52309794030125"
      ]
     },
     "execution_count": 76,
     "metadata": {},
     "output_type": "execute_result"
    }
   ],
   "source": [
    "d1.std()"
   ]
  },
  {
   "cell_type": "code",
   "execution_count": 77,
   "id": "c41041c7",
   "metadata": {},
   "outputs": [
    {
     "data": {
      "text/plain": [
       "507.28994082840234"
      ]
     },
     "execution_count": 77,
     "metadata": {},
     "output_type": "execute_result"
    }
   ],
   "source": [
    "d1.var()"
   ]
  },
  {
   "cell_type": "code",
   "execution_count": 78,
   "id": "f9795dd4",
   "metadata": {},
   "outputs": [],
   "source": [
    "d2=[71,62,37,46,36,44,63,71,49,44,41,76,55,64,41]\n",
    "d2=numpy.array(d2)"
   ]
  },
  {
   "cell_type": "code",
   "execution_count": 79,
   "id": "56eb7124",
   "metadata": {},
   "outputs": [
    {
     "data": {
      "text/plain": [
       "53.333333333333336"
      ]
     },
     "execution_count": 79,
     "metadata": {},
     "output_type": "execute_result"
    }
   ],
   "source": [
    "d2.mean()"
   ]
  },
  {
   "cell_type": "code",
   "execution_count": 80,
   "id": "9f1bf42b",
   "metadata": {},
   "outputs": [
    {
     "data": {
      "text/plain": [
       "13.016229185990166"
      ]
     },
     "execution_count": 80,
     "metadata": {},
     "output_type": "execute_result"
    }
   ],
   "source": [
    "d2.std()"
   ]
  },
  {
   "cell_type": "code",
   "execution_count": 81,
   "id": "0435386a",
   "metadata": {},
   "outputs": [
    {
     "data": {
      "text/plain": [
       "169.42222222222225"
      ]
     },
     "execution_count": 81,
     "metadata": {},
     "output_type": "execute_result"
    }
   ],
   "source": [
    "d2.var()"
   ]
  },
  {
   "cell_type": "code",
   "execution_count": 82,
   "id": "20a706c3",
   "metadata": {},
   "outputs": [
    {
     "data": {
      "text/plain": [
       "4"
      ]
     },
     "execution_count": 82,
     "metadata": {},
     "output_type": "execute_result"
    }
   ],
   "source": [
    "int(1+3.322*numpy.log10(len(d1)))"
   ]
  },
  {
   "cell_type": "code",
   "execution_count": 83,
   "id": "07debeb9",
   "metadata": {},
   "outputs": [
    {
     "data": {
      "text/plain": [
       "4"
      ]
     },
     "execution_count": 83,
     "metadata": {},
     "output_type": "execute_result"
    }
   ],
   "source": [
    "int(1+3.322*numpy.log10(len(d2)))"
   ]
  },
  {
   "cell_type": "code",
   "execution_count": 84,
   "id": "94434ce9",
   "metadata": {},
   "outputs": [
    {
     "data": {
      "text/plain": [
       "0.4731002369553553"
      ]
     },
     "execution_count": 84,
     "metadata": {},
     "output_type": "execute_result"
    }
   ],
   "source": [
    "classRange=numpy.ptp(d1)/4\n",
    "hist,binE=numpy.histogram(d1,bins=4)\n",
    "cdfV=scipy.stats.norm.cdf(binE+classRange,d1.mean(),d1.std())\n",
    "binF=[]\n",
    "for i in range(0,len(cdfV)-1):\n",
    "    if i==0:\n",
    "        g=cdfV[0]\n",
    "    else:\n",
    "        g=cdfV[i]-cdfV[i-1]\n",
    "    binF.append(g)\n",
    "binF=numpy.array(binF)\n",
    "exp=len(d1)*binF\n",
    "chi=((hist-exp)**2/exp).sum()\n",
    "1-scipy.stats.chi2.cdf(chi,1)"
   ]
  },
  {
   "cell_type": "code",
   "execution_count": 85,
   "id": "f9e95d20",
   "metadata": {},
   "outputs": [
    {
     "data": {
      "text/plain": [
       "0.15865148933267992"
      ]
     },
     "execution_count": 85,
     "metadata": {},
     "output_type": "execute_result"
    }
   ],
   "source": [
    "classRange=numpy.ptp(d2)/4\n",
    "hist,binE=numpy.histogram(d2,bins=4)\n",
    "cdfV=scipy.stats.norm.cdf(binE+classRange,d2.mean(),d2.std())\n",
    "binF=[]\n",
    "for i in range(0,len(cdfV)-1):\n",
    "    if i==0:\n",
    "        g=cdfV[0]\n",
    "    else:\n",
    "        g=cdfV[i]-cdfV[i-1]\n",
    "    binF.append(g)\n",
    "binF=numpy.array(binF)\n",
    "exp=len(d2)*binF\n",
    "chi=((hist-exp)**2/exp).sum()\n",
    "1-scipy.stats.chi2.cdf(chi,1)"
   ]
  },
  {
   "cell_type": "code",
   "execution_count": 86,
   "id": "f49cc746",
   "metadata": {},
   "outputs": [],
   "source": [
    "F=d1.var()/d2.var()"
   ]
  },
  {
   "cell_type": "code",
   "execution_count": 87,
   "id": "acf9ec34",
   "metadata": {},
   "outputs": [
    {
     "data": {
      "text/plain": [
       "2.9942349602935603"
      ]
     },
     "execution_count": 87,
     "metadata": {},
     "output_type": "execute_result"
    }
   ],
   "source": [
    "F"
   ]
  },
  {
   "cell_type": "code",
   "execution_count": 88,
   "id": "16f1abef",
   "metadata": {},
   "outputs": [
    {
     "data": {
      "text/plain": [
       "0.02688152758377027"
      ]
     },
     "execution_count": 88,
     "metadata": {},
     "output_type": "execute_result"
    }
   ],
   "source": [
    "1-scipy.stats.f.cdf(F,len(d1)-1,len(d2)-1)"
   ]
  },
  {
   "cell_type": "code",
   "execution_count": 89,
   "id": "d007e880",
   "metadata": {},
   "outputs": [
    {
     "data": {
      "text/plain": [
       "Ttest_indResult(statistic=1.676022347103166, pvalue=0.11050633780305856)"
      ]
     },
     "execution_count": 89,
     "metadata": {},
     "output_type": "execute_result"
    }
   ],
   "source": [
    "scipy.stats.ttest_ind(d1,d2,equal_var=False)"
   ]
  },
  {
   "cell_type": "code",
   "execution_count": 90,
   "id": "0d0ac49b",
   "metadata": {},
   "outputs": [],
   "source": [
    "#3,ii,"
   ]
  },
  {
   "cell_type": "code",
   "execution_count": 91,
   "id": "cf182504",
   "metadata": {},
   "outputs": [],
   "source": [
    "h=[[4174,4507,1860,2294,2130,2095,4772,4092,2638,3169,1466,2238,1330,2482,3135,4444,4171,3919,4735,1130,2685,4380,1769,3391],\n",
    "   [43733.69,40867.71,18153.32,21248.07,18954.22,21034.44,45208.04,40848.7,26005.26,30055.2,13297.41,21862.11,13369.99,24975.03,31345.29,45667.05,44238.92,37214.39,48760.05,12242.88,22868.3,46516.17,17518.32,35302.87]]"
   ]
  },
  {
   "cell_type": "code",
   "execution_count": 92,
   "id": "7b29502b",
   "metadata": {},
   "outputs": [],
   "source": [
    "h=numpy.array(h)"
   ]
  },
  {
   "cell_type": "code",
   "execution_count": 93,
   "id": "eb4231e6",
   "metadata": {},
   "outputs": [
    {
     "data": {
      "text/plain": [
       "Text(0.5, 0, 'Social Media Engagement')"
      ]
     },
     "execution_count": 93,
     "metadata": {},
     "output_type": "execute_result"
    },
    {
     "data": {
      "image/png": "[encoded data removed]",
      "text/plain": [
       "<Figure size 640x480 with 1 Axes>"
      ]
     },
     "metadata": {},
     "output_type": "display_data"
    }
   ],
   "source": [
    "plt.plot(h[0],h[1],'o')\n",
    "plt.ylabel('E-commerce Sales')\n",
    "plt.xlabel('Social Media Engagement')"
   ]
  },
  {
   "cell_type": "code",
   "execution_count": 94,
   "id": "6b0c441d",
   "metadata": {},
   "outputs": [
    {
     "data": {
      "text/plain": [
       "SpearmanrResult(correlation=0.9765217391304346, pvalue=3.6938518126217637e-16)"
      ]
     },
     "execution_count": 94,
     "metadata": {},
     "output_type": "execute_result"
    }
   ],
   "source": [
    "scipy.stats.spearmanr(h,axis=1)"
   ]
  },
  {
   "cell_type": "code",
   "execution_count": 95,
   "id": "d9afe7db",
   "metadata": {},
   "outputs": [
    {
     "data": {
      "text/plain": [
       "PearsonRResult(statistic=0.9887172969335845, pvalue=1.2335506151432601e-19)"
      ]
     },
     "execution_count": 95,
     "metadata": {},
     "output_type": "execute_result"
    }
   ],
   "source": [
    "scipy.stats.pearsonr(h[0],h[1])"
   ]
  },
  {
   "cell_type": "code",
   "execution_count": null,
   "id": "9f3f19f5",
   "metadata": {},
   "outputs": [],
   "source": []
  }
 ],
 "metadata": {
  "kernelspec": {
   "display_name": "Python 3 (ipykernel)",
   "language": "python",
   "name": "python3"
  },
  "language_info": {
   "codemirror_mode": {
    "name": "ipython",
    "version": 3
   },
   "file_extension": ".py",
   "mimetype": "text/x-python",
   "name": "python",
   "nbconvert_exporter": "python",
   "pygments_lexer": "ipython3",
   "version": "3.9.13"
  }
 },
 "nbformat": 4,
 "nbformat_minor": 5
}
